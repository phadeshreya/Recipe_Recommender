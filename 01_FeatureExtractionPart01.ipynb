{
 "cells": [
  {
   "cell_type": "markdown",
   "id": "c638c317",
   "metadata": {},
   "source": [
    "## Initial Setup"
   ]
  },
  {
   "cell_type": "code",
   "execution_count": 1,
   "id": "00e40441",
   "metadata": {
    "scrolled": true
   },
   "outputs": [
    {
     "data": {
      "application/vnd.jupyter.widget-view+json": {
       "model_id": "7c36618825864d788048be43cbeb4734",
       "version_major": 2,
       "version_minor": 0
      },
      "text/plain": [
       "VBox()"
      ]
     },
     "metadata": {},
     "output_type": "display_data"
    },
    {
     "name": "stdout",
     "output_type": "stream",
     "text": [
      "Starting Spark application\n"
     ]
    },
    {
     "data": {
      "text/html": [
       "<table>\n",
       "<tr><th>ID</th><th>YARN Application ID</th><th>Kind</th><th>State</th><th>Spark UI</th><th>Driver log</th><th>Current session?</th></tr><tr><td>1</td><td>application_1689055440820_0002</td><td>pyspark</td><td>idle</td><td><a target=\"_blank\" href=\"http://ip-172-31-9-213.ec2.internal:20888/proxy/application_1689055440820_0002/\" class=\"emr-proxy-link\" emr-resource=\"j-30QIRXLWY77W3\n",
       "\" application-id=\"application_1689055440820_0002\">Link</a></td><td><a target=\"_blank\" href=\"http://ip-172-31-9-213.ec2.internal:8042/node/containerlogs/container_1689055440820_0002_01_000001/livy\" >Link</a></td><td>✔</td></tr></table>"
      ],
      "text/plain": [
       "<IPython.core.display.HTML object>"
      ]
     },
     "metadata": {},
     "output_type": "display_data"
    },
    {
     "data": {
      "application/vnd.jupyter.widget-view+json": {
       "model_id": "",
       "version_major": 2,
       "version_minor": 0
      },
      "text/plain": [
       "FloatProgress(value=0.0, bar_style='info', description='Progress:', layout=Layout(height='25px', width='50%'),…"
      ]
     },
     "metadata": {},
     "output_type": "display_data"
    },
    {
     "name": "stdout",
     "output_type": "stream",
     "text": [
      "SparkSession available as 'spark'.\n"
     ]
    },
    {
     "data": {
      "application/vnd.jupyter.widget-view+json": {
       "model_id": "",
       "version_major": 2,
       "version_minor": 0
      },
      "text/plain": [
       "FloatProgress(value=0.0, bar_style='info', description='Progress:', layout=Layout(height='25px', width='50%'),…"
      ]
     },
     "metadata": {},
     "output_type": "display_data"
    }
   ],
   "source": [
    "from pyspark.sql import SparkSession"
   ]
  },
  {
   "cell_type": "code",
   "execution_count": 2,
   "id": "c0816c34",
   "metadata": {},
   "outputs": [
    {
     "data": {
      "application/vnd.jupyter.widget-view+json": {
       "model_id": "7ac82bc0e364438bad32e402777425c1",
       "version_major": 2,
       "version_minor": 0
      },
      "text/plain": [
       "VBox()"
      ]
     },
     "metadata": {},
     "output_type": "display_data"
    },
    {
     "data": {
      "application/vnd.jupyter.widget-view+json": {
       "model_id": "",
       "version_major": 2,
       "version_minor": 0
      },
      "text/plain": [
       "FloatProgress(value=0.0, bar_style='info', description='Progress:', layout=Layout(height='25px', width='50%'),…"
      ]
     },
     "metadata": {},
     "output_type": "display_data"
    }
   ],
   "source": [
    "from pyspark.sql import SparkSession\n",
    "spark = SparkSession.builder.appName(\"Basics\").getOrCreate()"
   ]
  },
  {
   "cell_type": "code",
   "execution_count": 3,
   "id": "024d2dc3",
   "metadata": {},
   "outputs": [
    {
     "data": {
      "application/vnd.jupyter.widget-view+json": {
       "model_id": "3f0bf61adb524c3b84569fe48e92bb4d",
       "version_major": 2,
       "version_minor": 0
      },
      "text/plain": [
       "VBox()"
      ]
     },
     "metadata": {},
     "output_type": "display_data"
    },
    {
     "data": {
      "application/vnd.jupyter.widget-view+json": {
       "model_id": "",
       "version_major": 2,
       "version_minor": 0
      },
      "text/plain": [
       "FloatProgress(value=0.0, bar_style='info', description='Progress:', layout=Layout(height='25px', width='50%'),…"
      ]
     },
     "metadata": {},
     "output_type": "display_data"
    },
    {
     "name": "stdout",
     "output_type": "stream",
     "text": [
      "<pyspark.sql.session.SparkSession object at 0x7fdf43dd6e50>"
     ]
    }
   ],
   "source": [
    "spark"
   ]
  },
  {
   "cell_type": "code",
   "execution_count": 4,
   "id": "ad7c818b",
   "metadata": {},
   "outputs": [
    {
     "data": {
      "application/vnd.jupyter.widget-view+json": {
       "model_id": "e8fd8b1c7c6348d0ad54b6447ca59ef4",
       "version_major": 2,
       "version_minor": 0
      },
      "text/plain": [
       "VBox()"
      ]
     },
     "metadata": {},
     "output_type": "display_data"
    },
    {
     "data": {
      "application/vnd.jupyter.widget-view+json": {
       "model_id": "",
       "version_major": 2,
       "version_minor": 0
      },
      "text/plain": [
       "FloatProgress(value=0.0, bar_style='info', description='Progress:', layout=Layout(height='25px', width='50%'),…"
      ]
     },
     "metadata": {},
     "output_type": "display_data"
    }
   ],
   "source": [
    "from pyspark.sql import functions as F\n",
    "\n",
    "# Import for typecasting columns\n",
    "from pyspark.sql.types import IntegerType,BooleanType,DateType,FloatType,StringType\n",
    "from pyspark.sql.types import ArrayType"
   ]
  },
  {
   "cell_type": "markdown",
   "id": "3f6a7a72",
   "metadata": {},
   "source": [
    " ## <font color='red'>Task 01: Read the data </font>"
   ]
  },
  {
   "cell_type": "markdown",
   "id": "ac1f43ea",
   "metadata": {},
   "source": [
    "### <font color='blue'>Solution to Task 1 </font>"
   ]
  },
  {
   "cell_type": "code",
   "execution_count": 5,
   "id": "bf2e42be",
   "metadata": {},
   "outputs": [
    {
     "data": {
      "application/vnd.jupyter.widget-view+json": {
       "model_id": "88612a64d7f6499fa46099992059b3c6",
       "version_major": 2,
       "version_minor": 0
      },
      "text/plain": [
       "VBox()"
      ]
     },
     "metadata": {},
     "output_type": "display_data"
    },
    {
     "data": {
      "application/vnd.jupyter.widget-view+json": {
       "model_id": "",
       "version_major": 2,
       "version_minor": 0
      },
      "text/plain": [
       "FloatProgress(value=0.0, bar_style='info', description='Progress:', layout=Layout(height='25px', width='50%'),…"
      ]
     },
     "metadata": {},
     "output_type": "display_data"
    },
    {
     "name": "stdout",
     "output_type": "stream",
     "text": [
      "+--------------------+------+-------+--------------+----------+--------------------+--------------------+-------+--------------------+--------------------+--------------------+-------------+\n",
      "|                name|    id|minutes|contributor_id| submitted|                tags|           nutrition|n_steps|               steps|         description|         ingredients|n_ingredients|\n",
      "+--------------------+------+-------+--------------+----------+--------------------+--------------------+-------+--------------------+--------------------+--------------------+-------------+\n",
      "|arriba   baked wi...|137739|     55|         47892|2005-09-16|['60-minutes-or-l...|[51.5, 0.0, 13.0,...|     11|['make a choice a...|autumn is my favo...|['winter squash',...|            7|\n",
      "|a bit different  ...| 31490|     30|         26278|2002-06-17|['30-minutes-or-l...|[173.4, 18.0, 0.0...|      9|['preheat oven to...|this recipe calls...|['prepared pizza ...|            6|\n",
      "|all in the kitche...|112140|    130|        196586|2005-02-25|['time-to-make', ...|[269.8, 22.0, 32....|      6|['brown ground be...|this modified ver...|['ground beef', '...|           13|\n",
      "|  alouette  potatoes| 59389|     45|         68585|2003-04-14|['60-minutes-or-l...|[368.1, 17.0, 10....|     11|['place potatoes ...|this is a super e...|['spreadable chee...|           11|\n",
      "|amish  tomato ket...| 44061|    190|         41706|2002-10-25|['weeknight', 'ti...|[352.9, 1.0, 337....|      5|['mix all ingredi...|my dh's amish mot...|['tomato juice', ...|            8|\n",
      "+--------------------+------+-------+--------------+----------+--------------------+--------------------+-------+--------------------+--------------------+--------------------+-------------+\n",
      "only showing top 5 rows"
     ]
    }
   ],
   "source": [
    "# Task 01 Cell 1 out of 1\n",
    "\n",
    "raw_recipes_df = (spark.read.csv(\"s3a://raw-recipes-clean-upgrad/RAW_recipes_cleaned.csv\",inferSchema=True,header=True))\n",
    "\n",
    "raw_recipes_df.show(5) "
   ]
  },
  {
   "cell_type": "markdown",
   "id": "76bcce37",
   "metadata": {},
   "source": [
    "<font color='blue'>Test cases for Task 01</font>"
   ]
  },
  {
   "cell_type": "code",
   "execution_count": 6,
   "id": "750a091a",
   "metadata": {},
   "outputs": [
    {
     "data": {
      "application/vnd.jupyter.widget-view+json": {
       "model_id": "1cbbb55bb1254356bca548bbb7a4f3eb",
       "version_major": 2,
       "version_minor": 0
      },
      "text/plain": [
       "VBox()"
      ]
     },
     "metadata": {},
     "output_type": "display_data"
    },
    {
     "data": {
      "application/vnd.jupyter.widget-view+json": {
       "model_id": "",
       "version_major": 2,
       "version_minor": 0
      },
      "text/plain": [
       "FloatProgress(value=0.0, bar_style='info', description='Progress:', layout=Layout(height='25px', width='50%'),…"
      ]
     },
     "metadata": {},
     "output_type": "display_data"
    }
   ],
   "source": [
    "# Code check cell\n",
    "# Do not edit cells with assert commands\n",
    "# If an error is shown after running this cell, please recheck your code.  \n",
    "\n",
    "assert raw_recipes_df.count() == 231637, \"There is a mistake in reading the data.\"\n",
    "assert len(raw_recipes_df.columns) == 12, \"There is a mistake in reading the data.\"\n",
    "assert raw_recipes_df.schema[\"minutes\"].dataType == IntegerType(), \"The data types have not been read correctly.\"\n",
    "assert raw_recipes_df.schema[\"tags\"].dataType == StringType(), \"The data types have not been read correctly.\"\n",
    "assert raw_recipes_df.schema[\"n_ingredients\"].dataType == IntegerType(), \"The data types have not been read correctly.\""
   ]
  },
  {
   "cell_type": "markdown",
   "id": "598d5d6a",
   "metadata": {},
   "source": [
    " #### Task 1 ends"
   ]
  },
  {
   "cell_type": "markdown",
   "id": "3965b287",
   "metadata": {},
   "source": [
    "## Extract ```nutrition``` values "
   ]
  },
  {
   "cell_type": "code",
   "execution_count": 7,
   "id": "47dadf7d",
   "metadata": {},
   "outputs": [
    {
     "data": {
      "application/vnd.jupyter.widget-view+json": {
       "model_id": "fc2ff0e4dc6b4604ad13239fa0966ded",
       "version_major": 2,
       "version_minor": 0
      },
      "text/plain": [
       "VBox()"
      ]
     },
     "metadata": {},
     "output_type": "display_data"
    },
    {
     "data": {
      "application/vnd.jupyter.widget-view+json": {
       "model_id": "",
       "version_major": 2,
       "version_minor": 0
      },
      "text/plain": [
       "FloatProgress(value=0.0, bar_style='info', description='Progress:', layout=Layout(height='25px', width='50%'),…"
      ]
     },
     "metadata": {},
     "output_type": "display_data"
    }
   ],
   "source": [
    "# List of nutrition columns\n",
    "\n",
    "nutrition_column_names = ['calories',\n",
    "                          'total_fat_PDV',\n",
    "                          'sugar_PDV',\n",
    "                          'sodium_PDV',\n",
    "                          'protein_PDV',\n",
    "                          'saturated_fat_PDV',\n",
    "                          'carbohydrates_PDV']"
   ]
  },
  {
   "cell_type": "markdown",
   "id": "9250b507",
   "metadata": {},
   "source": [
    "## <font color='red'>Task 02: Extract individual features from the nutrition column."
   ]
  },
  {
   "cell_type": "markdown",
   "id": "1152bea8",
   "metadata": {},
   "source": [
    "<font color='red'> \n",
    "As read by the spark compiler, the nutrition column is a string column when it should be an array of float values. Each row in the nutrition column contains seven values. Each value represents nutrition information. \n",
    "    \n",
    "    \n",
    " Task2 is to separate the array into seven individual columns.\n",
    "    \n",
    "\n",
    "</font>"
   ]
  },
  {
   "cell_type": "markdown",
   "id": "244cbaf6",
   "metadata": {},
   "source": [
    "<font color='red'>\n",
    "\n",
    "This task is further divided into two sub tasks \n",
    "    \n",
    "### Task 2.1 \n",
    "    \n",
    "Use string operations to remove the square brackets from the nutrition column. \n",
    "\n",
    "</font>"
   ]
  },
  {
   "cell_type": "markdown",
   "id": "5085be55",
   "metadata": {},
   "source": [
    "<font color='red'>\n",
    "\n",
    "### Task 2.2 \n",
    "    \n",
    "Task 2.2 Split the nutrition column into seven individual columns and cast the new columns to float values. \n",
    "\n",
    "First split the column on using the comma delimiter. Then you can use a for loop to iterate over the column names declared in the variable ```nutrition_column_names```, inside each iteration write a code to extract the value at a specific index of the nutrition array  \n",
    "\n",
    "\n",
    "    \n",
    "</font>"
   ]
  },
  {
   "cell_type": "markdown",
   "id": "683d19bf",
   "metadata": {},
   "source": [
    "### <font color='blue'>Solution to Task 2 </font>"
   ]
  },
  {
   "cell_type": "code",
   "execution_count": 9,
   "id": "0514c4b8",
   "metadata": {},
   "outputs": [
    {
     "data": {
      "application/vnd.jupyter.widget-view+json": {
       "model_id": "20e9f8c2b0ad45a2b66c48f79d3d2b2a",
       "version_major": 2,
       "version_minor": 0
      },
      "text/plain": [
       "VBox()"
      ]
     },
     "metadata": {},
     "output_type": "display_data"
    },
    {
     "data": {
      "application/vnd.jupyter.widget-view+json": {
       "model_id": "",
       "version_major": 2,
       "version_minor": 0
      },
      "text/plain": [
       "FloatProgress(value=0.0, bar_style='info', description='Progress:', layout=Layout(height='25px', width='50%'),…"
      ]
     },
     "metadata": {},
     "output_type": "display_data"
    }
   ],
   "source": [
    "# Task 02 Cell 1 out of 2\n",
    "# 2.1 - string operations to remove square brakets\n",
    "\n",
    "raw_recipes_df = (raw_recipes_df\n",
    "                  .withColumn('nutrition',(F.regexp_replace(\"nutrition\",\"[\\[\\]]\",\"\"))))"
   ]
  },
  {
   "cell_type": "code",
   "execution_count": 10,
   "id": "33c0edb9",
   "metadata": {},
   "outputs": [
    {
     "data": {
      "application/vnd.jupyter.widget-view+json": {
       "model_id": "ac2a25a58e1d47679204dc88d2b13e17",
       "version_major": 2,
       "version_minor": 0
      },
      "text/plain": [
       "VBox()"
      ]
     },
     "metadata": {},
     "output_type": "display_data"
    },
    {
     "data": {
      "application/vnd.jupyter.widget-view+json": {
       "model_id": "",
       "version_major": 2,
       "version_minor": 0
      },
      "text/plain": [
       "FloatProgress(value=0.0, bar_style='info', description='Progress:', layout=Layout(height='25px', width='50%'),…"
      ]
     },
     "metadata": {},
     "output_type": "display_data"
    }
   ],
   "source": [
    "# Task 02 Cell 2 out of 3\n",
    "# STEP 2.2 - split the neutrition string into seven individial values. \n",
    "# Create an object to split the nutrition column\n",
    "import pyspark\n",
    "nutrition_cols_split = pyspark.sql.functions.split(raw_recipes_df['nutrition'],',')# pyspark function to split values based on a delimiter.  \n",
    "\n",
    "# loop to extract individual values from the nutrition column\n",
    "\n",
    "for col_index, col_name in enumerate(nutrition_column_names):\n",
    "    # col_index holds the index number of each column, e.g., calories will be 0\n",
    "    # col_name holds the name of each column \n",
    "    \n",
    "    raw_recipes_df = (raw_recipes_df.withColumn(col_name, nutrition_cols_split.getItem(col_index).cast(\"float\")))"
   ]
  },
  {
   "cell_type": "markdown",
   "id": "8c9370e2",
   "metadata": {},
   "source": [
    "**Test cases for task 02**"
   ]
  },
  {
   "cell_type": "code",
   "execution_count": 11,
   "id": "8ab06479",
   "metadata": {},
   "outputs": [
    {
     "data": {
      "application/vnd.jupyter.widget-view+json": {
       "model_id": "be5a7929693245b6a7bdd44b7912ac6f",
       "version_major": 2,
       "version_minor": 0
      },
      "text/plain": [
       "VBox()"
      ]
     },
     "metadata": {},
     "output_type": "display_data"
    },
    {
     "data": {
      "application/vnd.jupyter.widget-view+json": {
       "model_id": "",
       "version_major": 2,
       "version_minor": 0
      },
      "text/plain": [
       "FloatProgress(value=0.0, bar_style='info', description='Progress:', layout=Layout(height='25px', width='50%'),…"
      ]
     },
     "metadata": {},
     "output_type": "display_data"
    }
   ],
   "source": [
    "# Code check cell\n",
    "# Do not edit cells with assert commands\n",
    "# If an error is shown after running this cell, please recheck your code.  \n",
    "\n",
    "assert raw_recipes_df.schema[\"carbohydrates_PDV\"].dataType == FloatType(), \"Recheck your typecasting\"\n",
    "assert raw_recipes_df.collect()[123432][14] == 62.0, \"The columns have not been split correctly.\"\n",
    "assert raw_recipes_df.collect()[10000][12] == 60.400001525878906, \"The columns have not been split correctly.\""
   ]
  },
  {
   "cell_type": "code",
   "execution_count": 12,
   "id": "604e3e44",
   "metadata": {},
   "outputs": [
    {
     "data": {
      "application/vnd.jupyter.widget-view+json": {
       "model_id": "f9516eed34f54947af42cc4c40ac8167",
       "version_major": 2,
       "version_minor": 0
      },
      "text/plain": [
       "VBox()"
      ]
     },
     "metadata": {},
     "output_type": "display_data"
    },
    {
     "data": {
      "application/vnd.jupyter.widget-view+json": {
       "model_id": "",
       "version_major": 2,
       "version_minor": 0
      },
      "text/plain": [
       "FloatProgress(value=0.0, bar_style='info', description='Progress:', layout=Layout(height='25px', width='50%'),…"
      ]
     },
     "metadata": {},
     "output_type": "display_data"
    },
    {
     "name": "stdout",
     "output_type": "stream",
     "text": [
      "True"
     ]
    }
   ],
   "source": [
    "raw_recipes_df.schema[\"carbohydrates_PDV\"].dataType == FloatType()\n",
    "raw_recipes_df.collect()[123432][14] == 62.0\n",
    "raw_recipes_df.collect()[10000][12] == 60.400001525878906"
   ]
  },
  {
   "cell_type": "markdown",
   "id": "2a25c804",
   "metadata": {},
   "source": [
    " ####  Task 02 ends </font>"
   ]
  },
  {
   "cell_type": "markdown",
   "id": "6b5e46fd",
   "metadata": {},
   "source": [
    "## Make nutrition-per-100 calorie columns\n",
    "\n",
    "By converting the nutrition values from absolute to relative terms, we ensure that portion size is not a factor in the analysis."
   ]
  },
  {
   "cell_type": "markdown",
   "id": "be5ffab9",
   "metadata": {},
   "source": [
    "Naming convention: Original column name ```total fat (PDV)```, column name after column ```total_fat_per_100_cal```"
   ]
  },
  {
   "cell_type": "markdown",
   "id": "72c34e80",
   "metadata": {},
   "source": [
    "## <font color='red'>Task 03: Standardize the nutrition values </font>"
   ]
  },
  {
   "cell_type": "markdown",
   "id": "04a4402d",
   "metadata": {},
   "source": [
    "<font color='red'>\n",
    "The current values for nutrition columns are not on the same scale. \n",
    "Your task is to standardize the nutrition columns using calories as the base of standardization. \n",
    "\n",
    "Convert the nutrition from absolute values to per 100 calorie values. \n",
    "</font>"
   ]
  },
  {
   "cell_type": "markdown",
   "id": "a4832b9e",
   "metadata": {},
   "source": [
    "<font color='red'>\n",
    "    \n",
    "We will use the  ```sugar (PDV)``` column to demonstrate the calculations for standardization.  \n",
    "\n",
    "</font>"
   ]
  },
  {
   "cell_type": "markdown",
   "id": "68d0c602",
   "metadata": {},
   "source": [
    "<font color='red'>\n",
    "    \n",
    "**Sample Calculation**\n",
    "\n",
    "Before transformation: ```sugar (PDV)``` for recipe id 137739 = 13.0\n",
    "\n",
    "Calories in the recipe recipe id 137739                       = 51.5\n",
    "\n",
    "Calculation:  \n",
    "sugar_per_100_cal = 13.0 * 100 / 51.5 \n",
    "\n",
    "After transformation ```sugar_per_100_cal``` = 25.24\n",
    "    \n",
    "</font>"
   ]
  },
  {
   "cell_type": "markdown",
   "id": "d8ff60e6",
   "metadata": {},
   "source": [
    "### <font color='blue'>Solution to Task 3 </font>"
   ]
  },
  {
   "cell_type": "code",
   "execution_count": 13,
   "id": "c82200f8",
   "metadata": {},
   "outputs": [
    {
     "data": {
      "application/vnd.jupyter.widget-view+json": {
       "model_id": "e332b40c1de24ded9059cef3e0c9db27",
       "version_major": 2,
       "version_minor": 0
      },
      "text/plain": [
       "VBox()"
      ]
     },
     "metadata": {},
     "output_type": "display_data"
    },
    {
     "data": {
      "application/vnd.jupyter.widget-view+json": {
       "model_id": "",
       "version_major": 2,
       "version_minor": 0
      },
      "text/plain": [
       "FloatProgress(value=0.0, bar_style='info', description='Progress:', layout=Layout(height='25px', width='50%'),…"
      ]
     },
     "metadata": {},
     "output_type": "display_data"
    }
   ],
   "source": [
    "for nutrition_col in nutrition_column_names:# loop over each of the newly created nutrition columns \n",
    "    if nutrition_col != \"calories\":\n",
    "        # the calories column should not be a part of the transformation exercise\n",
    "        # following code will name the new columns \n",
    "        nutrition_per_100_cal_col = (nutrition_col\n",
    "                                 .replace('_PDV','')\n",
    "                                 +'_per_100_cal')\n",
    "        raw_recipes_df = raw_recipes_df.withColumn(nutrition_per_100_cal_col,\n",
    "                                               raw_recipes_df[nutrition_col]*100/raw_recipes_df[\"calories\"]\n",
    "                                                # pyspark code to recreate the intended transformation \n",
    "                                                  )\n",
    "        \n",
    "        # You might end up adding nulls to the data because of our intended transformation. \n",
    "        # Perform a fill na operation to fill all the nulls with 0s. \n",
    "        # You must limit the scope of the fill na to the current column only. \n",
    "        \n",
    "        raw_recipes_df = raw_recipes_df.fillna(value=0,subset=[nutrition_per_100_cal_col]) \n",
    "        # pyspark code to fill nulls with 0 in only the current nutrition_per_100_cal_col "
   ]
  },
  {
   "cell_type": "markdown",
   "id": "108a8ced",
   "metadata": {},
   "source": [
    "**Test cases for Task 03**"
   ]
  },
  {
   "cell_type": "code",
   "execution_count": 14,
   "id": "e4ee5f5e",
   "metadata": {},
   "outputs": [
    {
     "data": {
      "application/vnd.jupyter.widget-view+json": {
       "model_id": "57f2d00c5f874f5d88031898bc8fbbcc",
       "version_major": 2,
       "version_minor": 0
      },
      "text/plain": [
       "VBox()"
      ]
     },
     "metadata": {},
     "output_type": "display_data"
    },
    {
     "data": {
      "application/vnd.jupyter.widget-view+json": {
       "model_id": "",
       "version_major": 2,
       "version_minor": 0
      },
      "text/plain": [
       "FloatProgress(value=0.0, bar_style='info', description='Progress:', layout=Layout(height='25px', width='50%'),…"
      ]
     },
     "metadata": {},
     "output_type": "display_data"
    }
   ],
   "source": [
    "# total fat check for id 28881\n",
    "assert raw_recipes_df.filter(\"id == 28881\").select('total_fat_per_100_cal').first()[0] == 0, \"total_fat_per_100_cal for recipe 28881 should be 0\"\n",
    "\n",
    "# total fat check for id 112140\n",
    "assert round(raw_recipes_df.filter(\"id == 112140\").select('total_fat_per_100_cal').first()[0]) == 8, \"total_fat_per_100_cal for recipe 112140 should be 8\"\n",
    "\n",
    "# checking for nulls\n",
    "for c in ['total_fat_per_100_cal','sugar_per_100_cal','sodium_per_100_cal','protein_per_100_cal',\n",
    "                          'saturated_fat_per_100_cal','carbohydrates_per_100_cal']:\n",
    "    assert raw_recipes_df.select(F.count(F.when(F.isnan(c) | F.col(c).isNull(), c)).alias(c)).collect()[0][0] == 0, \"There are Nulls in the data\""
   ]
  },
  {
   "cell_type": "code",
   "execution_count": 15,
   "id": "ede2835e",
   "metadata": {},
   "outputs": [
    {
     "data": {
      "application/vnd.jupyter.widget-view+json": {
       "model_id": "e6b1334ca516404295934c203577b08b",
       "version_major": 2,
       "version_minor": 0
      },
      "text/plain": [
       "VBox()"
      ]
     },
     "metadata": {},
     "output_type": "display_data"
    },
    {
     "data": {
      "application/vnd.jupyter.widget-view+json": {
       "model_id": "",
       "version_major": 2,
       "version_minor": 0
      },
      "text/plain": [
       "FloatProgress(value=0.0, bar_style='info', description='Progress:', layout=Layout(height='25px', width='50%'),…"
      ]
     },
     "metadata": {},
     "output_type": "display_data"
    },
    {
     "name": "stdout",
     "output_type": "stream",
     "text": [
      "True"
     ]
    }
   ],
   "source": [
    "raw_recipes_df.filter(\"id == 28881\").select('total_fat_per_100_cal').first()[0] == 0\n",
    "round(raw_recipes_df.filter(\"id == 112140\").select('total_fat_per_100_cal').first()[0]) == 8"
   ]
  },
  {
   "cell_type": "code",
   "execution_count": 16,
   "id": "215957c5",
   "metadata": {},
   "outputs": [
    {
     "data": {
      "application/vnd.jupyter.widget-view+json": {
       "model_id": "67873236e34242f9b60dcab42ba1878a",
       "version_major": 2,
       "version_minor": 0
      },
      "text/plain": [
       "VBox()"
      ]
     },
     "metadata": {},
     "output_type": "display_data"
    },
    {
     "data": {
      "application/vnd.jupyter.widget-view+json": {
       "model_id": "",
       "version_major": 2,
       "version_minor": 0
      },
      "text/plain": [
       "FloatProgress(value=0.0, bar_style='info', description='Progress:', layout=Layout(height='25px', width='50%'),…"
      ]
     },
     "metadata": {},
     "output_type": "display_data"
    }
   ],
   "source": [
    "for c in ['total_fat_per_100_cal','sugar_per_100_cal','sodium_per_100_cal','protein_per_100_cal',\n",
    "                          'saturated_fat_per_100_cal','carbohydrates_per_100_cal']:\n",
    "    assert raw_recipes_df.select(F.count(F.when(F.isnan(c) | F.col(c).isNull(), c)).alias(c)).collect()[0][0] == 0"
   ]
  },
  {
   "cell_type": "code",
   "execution_count": 17,
   "id": "fbd8b064",
   "metadata": {},
   "outputs": [
    {
     "data": {
      "application/vnd.jupyter.widget-view+json": {
       "model_id": "c470128254ec41cbb777ccd0d21d3b90",
       "version_major": 2,
       "version_minor": 0
      },
      "text/plain": [
       "VBox()"
      ]
     },
     "metadata": {},
     "output_type": "display_data"
    },
    {
     "data": {
      "application/vnd.jupyter.widget-view+json": {
       "model_id": "",
       "version_major": 2,
       "version_minor": 0
      },
      "text/plain": [
       "FloatProgress(value=0.0, bar_style='info', description='Progress:', layout=Layout(height='25px', width='50%'),…"
      ]
     },
     "metadata": {},
     "output_type": "display_data"
    },
    {
     "name": "stdout",
     "output_type": "stream",
     "text": [
      "root\n",
      " |-- name: string (nullable = true)\n",
      " |-- id: integer (nullable = true)\n",
      " |-- minutes: integer (nullable = true)\n",
      " |-- contributor_id: integer (nullable = true)\n",
      " |-- submitted: string (nullable = true)\n",
      " |-- tags: string (nullable = true)\n",
      " |-- nutrition: string (nullable = true)\n",
      " |-- n_steps: integer (nullable = true)\n",
      " |-- steps: string (nullable = true)\n",
      " |-- description: string (nullable = true)\n",
      " |-- ingredients: string (nullable = true)\n",
      " |-- n_ingredients: integer (nullable = true)\n",
      " |-- calories: float (nullable = true)\n",
      " |-- total_fat_PDV: float (nullable = true)\n",
      " |-- sugar_PDV: float (nullable = true)\n",
      " |-- sodium_PDV: float (nullable = true)\n",
      " |-- protein_PDV: float (nullable = true)\n",
      " |-- saturated_fat_PDV: float (nullable = true)\n",
      " |-- carbohydrates_PDV: float (nullable = true)\n",
      " |-- total_fat_per_100_cal: double (nullable = false)\n",
      " |-- sugar_per_100_cal: double (nullable = false)\n",
      " |-- sodium_per_100_cal: double (nullable = false)\n",
      " |-- protein_per_100_cal: double (nullable = false)\n",
      " |-- saturated_fat_per_100_cal: double (nullable = false)\n",
      " |-- carbohydrates_per_100_cal: double (nullable = false)"
     ]
    }
   ],
   "source": [
    "raw_recipes_df.printSchema()"
   ]
  },
  {
   "cell_type": "markdown",
   "id": "238b1b16",
   "metadata": {},
   "source": [
    " #### Task 03 ends </font>"
   ]
  },
  {
   "cell_type": "markdown",
   "id": "9dfb7a58",
   "metadata": {},
   "source": [
    "## <font color='red'>Task 04: Convert the tags column from a string to an array of strings </font>"
   ]
  },
  {
   "cell_type": "markdown",
   "id": "a8afab72",
   "metadata": {},
   "source": [
    "<font color='red'>\n",
    "    \n",
    "Currently, the tags column is a string column but holds an array of strings. \n",
    "\n",
    "Your task is to convert the tags columns from a string to an array of strings. \n",
    "    \n",
    "</font>"
   ]
  },
  {
   "cell_type": "markdown",
   "id": "f28e9403",
   "metadata": {},
   "source": [
    "<font color='red'>\n",
    "\n",
    "Remove ```[``` ```]``` ```'``` punctuation marks from the tags column. \n",
    "Split the tags column based on the comma delimiter. \n",
    "    \n",
    "\n",
    "</font>"
   ]
  },
  {
   "cell_type": "markdown",
   "id": "449dfc92",
   "metadata": {},
   "source": [
    "### <font color='blue'>Solution to Task 4 </font>"
   ]
  },
  {
   "cell_type": "markdown",
   "id": "fa9a4cba",
   "metadata": {},
   "source": [
    "<font color='blue'>Complete the code in the following cell</font>"
   ]
  },
  {
   "cell_type": "code",
   "execution_count": 18,
   "id": "0f87f08c",
   "metadata": {},
   "outputs": [
    {
     "data": {
      "application/vnd.jupyter.widget-view+json": {
       "model_id": "570d4f4687904d8cb357f2f8496f3254",
       "version_major": 2,
       "version_minor": 0
      },
      "text/plain": [
       "VBox()"
      ]
     },
     "metadata": {},
     "output_type": "display_data"
    },
    {
     "data": {
      "application/vnd.jupyter.widget-view+json": {
       "model_id": "",
       "version_major": 2,
       "version_minor": 0
      },
      "text/plain": [
       "FloatProgress(value=0.0, bar_style='info', description='Progress:', layout=Layout(height='25px', width='50%'),…"
      ]
     },
     "metadata": {},
     "output_type": "display_data"
    }
   ],
   "source": [
    "# Task 04 Cell 1 out of 1\n",
    "import pyspark\n",
    "from pyspark.sql.functions import split, col\n",
    "raw_recipes_df = (raw_recipes_df\n",
    "                  .withColumn('tags', F.regexp_replace(\"tags\",\"[\\\\[\\\\]\\\\']\",\"\")\n",
    "                             )\n",
    "                  .withColumn('tags', F.split(\"tags\",\", \")\n",
    "                             )\n",
    "                 )"
   ]
  },
  {
   "cell_type": "markdown",
   "id": "93ae3ed2",
   "metadata": {},
   "source": [
    "**Test cases for Task 04**"
   ]
  },
  {
   "cell_type": "code",
   "execution_count": 19,
   "id": "100c69a5",
   "metadata": {},
   "outputs": [
    {
     "data": {
      "application/vnd.jupyter.widget-view+json": {
       "model_id": "fe007952365043ccb5fca95723f613e4",
       "version_major": 2,
       "version_minor": 0
      },
      "text/plain": [
       "VBox()"
      ]
     },
     "metadata": {},
     "output_type": "display_data"
    },
    {
     "data": {
      "application/vnd.jupyter.widget-view+json": {
       "model_id": "",
       "version_major": 2,
       "version_minor": 0
      },
      "text/plain": [
       "FloatProgress(value=0.0, bar_style='info', description='Progress:', layout=Layout(height='25px', width='50%'),…"
      ]
     },
     "metadata": {},
     "output_type": "display_data"
    }
   ],
   "source": [
    "# Code check cell\n",
    "# Do not edit cells with assert commands\n",
    "# If an error is shown after running this cell, please recheck your code.  \n",
    "\n",
    "assert raw_recipes_df.schema[\"tags\"].dataType == ArrayType(StringType(), True), \"You have not split the string into an array.\"\n",
    "assert raw_recipes_df.collect()[2][5] == ['time-to-make','course', 'preparation', 'main-dish', 'chili', 'crock-pot-slow-cooker', 'dietary', 'equipment', '4-hours-or-less'], \"Recheck your string cleaning and splitting operations.\""
   ]
  },
  {
   "cell_type": "code",
   "execution_count": 20,
   "id": "d9be384c",
   "metadata": {},
   "outputs": [
    {
     "data": {
      "application/vnd.jupyter.widget-view+json": {
       "model_id": "1c50bece4d7a47c2bdca46a946cc400a",
       "version_major": 2,
       "version_minor": 0
      },
      "text/plain": [
       "VBox()"
      ]
     },
     "metadata": {},
     "output_type": "display_data"
    },
    {
     "data": {
      "application/vnd.jupyter.widget-view+json": {
       "model_id": "",
       "version_major": 2,
       "version_minor": 0
      },
      "text/plain": [
       "FloatProgress(value=0.0, bar_style='info', description='Progress:', layout=Layout(height='25px', width='50%'),…"
      ]
     },
     "metadata": {},
     "output_type": "display_data"
    },
    {
     "name": "stdout",
     "output_type": "stream",
     "text": [
      "True"
     ]
    }
   ],
   "source": [
    "raw_recipes_df.schema[\"tags\"].dataType == ArrayType(StringType(), True)\n",
    "raw_recipes_df.collect()[2][5] == ['time-to-make','course', 'preparation', 'main-dish', 'chili', 'crock-pot-slow-cooker', 'dietary', 'equipment', '4-hours-or-less']"
   ]
  },
  {
   "cell_type": "markdown",
   "id": "a7112647",
   "metadata": {},
   "source": [
    "#### Task 04 ends </font>"
   ]
  },
  {
   "cell_type": "markdown",
   "id": "b8875130",
   "metadata": {},
   "source": [
    "## Join Recipe Data to Review Data"
   ]
  },
  {
   "cell_type": "code",
   "execution_count": 21,
   "id": "aed82eff",
   "metadata": {},
   "outputs": [
    {
     "data": {
      "application/vnd.jupyter.widget-view+json": {
       "model_id": "59cddfe9627a4a049d00c3429b9824c8",
       "version_major": 2,
       "version_minor": 0
      },
      "text/plain": [
       "VBox()"
      ]
     },
     "metadata": {},
     "output_type": "display_data"
    },
    {
     "data": {
      "application/vnd.jupyter.widget-view+json": {
       "model_id": "",
       "version_major": 2,
       "version_minor": 0
      },
      "text/plain": [
       "FloatProgress(value=0.0, bar_style='info', description='Progress:', layout=Layout(height='25px', width='50%'),…"
      ]
     },
     "metadata": {},
     "output_type": "display_data"
    }
   ],
   "source": [
    "# Reading the second data set. \n",
    "# keep this cell unedited\n",
    "\n",
    "raw_ratings_df = (spark.read.csv(\"s3a://raw-interactions-upgrad/RAW_interactions_cleaned.csv\", \n",
    "                                 header=True, \n",
    "                                 inferSchema= True)\n",
    "                  .withColumn(\"review_date\",  F.col(\"date\"))\n",
    "                  .drop(F.col(\"date\"))\n",
    "                  )"
   ]
  },
  {
   "cell_type": "code",
   "execution_count": 22,
   "id": "cce11210",
   "metadata": {},
   "outputs": [
    {
     "data": {
      "application/vnd.jupyter.widget-view+json": {
       "model_id": "9066328ee6784534b262128d7bc91026",
       "version_major": 2,
       "version_minor": 0
      },
      "text/plain": [
       "VBox()"
      ]
     },
     "metadata": {},
     "output_type": "display_data"
    },
    {
     "data": {
      "application/vnd.jupyter.widget-view+json": {
       "model_id": "",
       "version_major": 2,
       "version_minor": 0
      },
      "text/plain": [
       "FloatProgress(value=0.0, bar_style='info', description='Progress:', layout=Layout(height='25px', width='50%'),…"
      ]
     },
     "metadata": {},
     "output_type": "display_data"
    },
    {
     "name": "stdout",
     "output_type": "stream",
     "text": [
      "root\n",
      " |-- user_id: integer (nullable = true)\n",
      " |-- recipe_id: integer (nullable = true)\n",
      " |-- rating: integer (nullable = true)\n",
      " |-- review: string (nullable = true)\n",
      " |-- review_date: string (nullable = true)"
     ]
    }
   ],
   "source": [
    "raw_ratings_df.printSchema()"
   ]
  },
  {
   "cell_type": "code",
   "execution_count": 23,
   "id": "0e525752",
   "metadata": {},
   "outputs": [
    {
     "data": {
      "application/vnd.jupyter.widget-view+json": {
       "model_id": "37837af238e54833bc810280ef17860a",
       "version_major": 2,
       "version_minor": 0
      },
      "text/plain": [
       "VBox()"
      ]
     },
     "metadata": {},
     "output_type": "display_data"
    },
    {
     "data": {
      "application/vnd.jupyter.widget-view+json": {
       "model_id": "",
       "version_major": 2,
       "version_minor": 0
      },
      "text/plain": [
       "FloatProgress(value=0.0, bar_style='info', description='Progress:', layout=Layout(height='25px', width='50%'),…"
      ]
     },
     "metadata": {},
     "output_type": "display_data"
    }
   ],
   "source": [
    "# Code check cell\n",
    "# Do not edit cells with assert commands\n",
    "# If an error is shown after running this cell, please recheck your code.  \n",
    "\n",
    "assert raw_ratings_df.count() == 1132367, \"There is a mistake in reading the data.\"\n",
    "assert len(raw_ratings_df.columns) == 5, \"There is a mistake in reading the data.\""
   ]
  },
  {
   "cell_type": "code",
   "execution_count": 24,
   "id": "33b93543",
   "metadata": {},
   "outputs": [
    {
     "data": {
      "application/vnd.jupyter.widget-view+json": {
       "model_id": "9b11ab3550fb4bac896b1db14ca406d5",
       "version_major": 2,
       "version_minor": 0
      },
      "text/plain": [
       "VBox()"
      ]
     },
     "metadata": {},
     "output_type": "display_data"
    },
    {
     "data": {
      "application/vnd.jupyter.widget-view+json": {
       "model_id": "",
       "version_major": 2,
       "version_minor": 0
      },
      "text/plain": [
       "FloatProgress(value=0.0, bar_style='info', description='Progress:', layout=Layout(height='25px', width='50%'),…"
      ]
     },
     "metadata": {},
     "output_type": "display_data"
    },
    {
     "name": "stdout",
     "output_type": "stream",
     "text": [
      "+-------+---------+------+--------------------+-----------+\n",
      "|user_id|recipe_id|rating|              review|review_date|\n",
      "+-------+---------+------+--------------------+-----------+\n",
      "|  38094|    40893|     4|Great with a sala...| 2003-02-17|\n",
      "|1293707|    40893|     5|So simple  so del...| 2011-12-21|\n",
      "|   8937|    44394|     4|This worked very ...| 2002-12-01|\n",
      "| 126440|    85009|     5|I made the Mexica...| 2010-02-27|\n",
      "|  57222|    85009|     5|Made the cheddar ...| 2011-10-01|\n",
      "+-------+---------+------+--------------------+-----------+\n",
      "only showing top 5 rows"
     ]
    }
   ],
   "source": [
    "raw_ratings_df.show(5)"
   ]
  },
  {
   "cell_type": "markdown",
   "id": "43f916b9",
   "metadata": {},
   "source": [
    "## <font color='red'>Task 05: Read the second data file </font>"
   ]
  },
  {
   "cell_type": "markdown",
   "id": "2dc1dc11",
   "metadata": {},
   "source": [
    "<font color='red'>\n",
    "\n",
    "Along with raw recipes data, we also have raw ratings data. \n",
    "\n",
    "The resulting dataframe must have the same number of rows as in the raw ratings data. \n",
    "    \n",
    "Join both the dataframes using the recipie IDs.\n",
    "    \n",
    "</font>"
   ]
  },
  {
   "cell_type": "markdown",
   "id": "2af3f9e5",
   "metadata": {},
   "source": [
    "<font color='red'>\n",
    "\n",
    "**Calculation explanation** \n",
    "\n",
    "There are 25 columns in the ```raw_recipes_df``` and five in the ```raw_ratings_df```. So total columns in the combined dataframe 25 + 5 = 30\n",
    "\n",
    "The number of rows in the combined dataframe must be the same as the rows in the ```raw_ratings_df```. So total rows in combined dataframe 1132367\n",
    "    \n",
    "</font>"
   ]
  },
  {
   "cell_type": "markdown",
   "id": "64416d92",
   "metadata": {},
   "source": [
    "### <font color='blue'>Solution to Task 5 </font>\n",
    "\n",
    "<font color='blue'>Complete the code in the following cell</font>"
   ]
  },
  {
   "cell_type": "code",
   "execution_count": 25,
   "id": "0ab2b5e5",
   "metadata": {},
   "outputs": [
    {
     "data": {
      "application/vnd.jupyter.widget-view+json": {
       "model_id": "6358b607a524409182f50b62bc079249",
       "version_major": 2,
       "version_minor": 0
      },
      "text/plain": [
       "VBox()"
      ]
     },
     "metadata": {},
     "output_type": "display_data"
    },
    {
     "data": {
      "application/vnd.jupyter.widget-view+json": {
       "model_id": "",
       "version_major": 2,
       "version_minor": 0
      },
      "text/plain": [
       "FloatProgress(value=0.0, bar_style='info', description='Progress:', layout=Layout(height='25px', width='50%'),…"
      ]
     },
     "metadata": {},
     "output_type": "display_data"
    }
   ],
   "source": [
    "# Task 05 Cell 1 out of 1\n",
    "\n",
    "interaction_level_df = raw_ratings_df.join(raw_recipes_df,raw_ratings_df.recipe_id==raw_recipes_df.id,\"inner\")"
   ]
  },
  {
   "cell_type": "markdown",
   "id": "f5f6cf11",
   "metadata": {},
   "source": [
    "**Test cases for Task 05**"
   ]
  },
  {
   "cell_type": "code",
   "execution_count": 26,
   "id": "ca32975a",
   "metadata": {},
   "outputs": [
    {
     "data": {
      "application/vnd.jupyter.widget-view+json": {
       "model_id": "9cc0ecd8412147a7997ba8d2566ba605",
       "version_major": 2,
       "version_minor": 0
      },
      "text/plain": [
       "VBox()"
      ]
     },
     "metadata": {},
     "output_type": "display_data"
    },
    {
     "data": {
      "application/vnd.jupyter.widget-view+json": {
       "model_id": "",
       "version_major": 2,
       "version_minor": 0
      },
      "text/plain": [
       "FloatProgress(value=0.0, bar_style='info', description='Progress:', layout=Layout(height='25px', width='50%'),…"
      ]
     },
     "metadata": {},
     "output_type": "display_data"
    }
   ],
   "source": [
    "# Code check cell\n",
    "# Do not edit cells with assert commands\n",
    "# If an error is shown after running this cell, please recheck your code.  \n",
    "\n",
    "assert (interaction_level_df.count() ,len(interaction_level_df.columns)) == (1132367, 30), \"The type of join is incorrect\"\n",
    "\n",
    "list1 = raw_ratings_df.select('recipe_id').collect()\n",
    "list2 = raw_recipes_df.select('id').collect()\n",
    "exclusive_set = set(list1)-set(list2)\n",
    "\n",
    "assert len(exclusive_set) == 0, \"There is a mistake in reading one of the two data files.\""
   ]
  },
  {
   "cell_type": "code",
   "execution_count": 27,
   "id": "c868c0db",
   "metadata": {},
   "outputs": [
    {
     "data": {
      "application/vnd.jupyter.widget-view+json": {
       "model_id": "263b8fcf93af4770bc763a584840f378",
       "version_major": 2,
       "version_minor": 0
      },
      "text/plain": [
       "VBox()"
      ]
     },
     "metadata": {},
     "output_type": "display_data"
    },
    {
     "data": {
      "application/vnd.jupyter.widget-view+json": {
       "model_id": "",
       "version_major": 2,
       "version_minor": 0
      },
      "text/plain": [
       "FloatProgress(value=0.0, bar_style='info', description='Progress:', layout=Layout(height='25px', width='50%'),…"
      ]
     },
     "metadata": {},
     "output_type": "display_data"
    },
    {
     "name": "stdout",
     "output_type": "stream",
     "text": [
      "True"
     ]
    }
   ],
   "source": [
    "(interaction_level_df.count() ,len(interaction_level_df.columns)) == (1132367, 30)"
   ]
  },
  {
   "cell_type": "markdown",
   "id": "0597c95e",
   "metadata": {},
   "source": [
    "####  Task 05 ends </font>"
   ]
  },
  {
   "cell_type": "markdown",
   "id": "cd1d5558",
   "metadata": {},
   "source": [
    "## <font color='red'>Task 06:  Create time-based features</font>"
   ]
  },
  {
   "cell_type": "markdown",
   "id": "92e39f5f",
   "metadata": {},
   "source": [
    "<font color='red'>\n",
    "\n",
    "Currently, both the date columns, the submitted date, and the review date are in string forms. \n",
    "    \n",
    "First convert the ```submitted``` and ```review_date``` to DateType()\n",
    "\n",
    "Use review date and submission date to derive new features:\n",
    "1. ```days_since_submission_on_review_date``` Number of days between the recipe submission and the current review.  \n",
    "2. ```months_since_submission_on_review_date``` Number of months between the recipe submission and the current review. \n",
    "3. ```years_since_submission_on_review_date```Number of years between the recipe submission and the current review. \n",
    "\n",
    "</font>"
   ]
  },
  {
   "cell_type": "markdown",
   "id": "c47e4d5b",
   "metadata": {},
   "source": [
    "<font color='red'>\n",
    "\n",
    "**Sample Calculation**\n",
    "\n",
    "Recipe 40893 was submitted on 2002-09-21\n",
    "User 38094 reviewed recipe 40893 on 2003-02-17\n",
    "\n",
    "```days_since_submission_on_review_date``` number of calender days between 2002-09-21 and 2003-02-17 that is 149\n",
    "\n",
    "```months_since_submission_on_review_date``` number of calender months between 2002-09-21 and 2003-02-17 that is 4.87 (calculated by a pyspark function)\n",
    "\n",
    "```years_since_submission_on_review_date``` number of calender months divided by 12 that is 0.40\n",
    "    \n",
    "</font>"
   ]
  },
  {
   "cell_type": "markdown",
   "id": "85d65a6e",
   "metadata": {},
   "source": [
    "### <font color='blue'>Solution to Task 6 </font>"
   ]
  },
  {
   "cell_type": "code",
   "execution_count": 28,
   "id": "f0b6e4cd",
   "metadata": {},
   "outputs": [
    {
     "data": {
      "application/vnd.jupyter.widget-view+json": {
       "model_id": "70d74112066a4e8f86be3b92e4d5c72a",
       "version_major": 2,
       "version_minor": 0
      },
      "text/plain": [
       "VBox()"
      ]
     },
     "metadata": {},
     "output_type": "display_data"
    },
    {
     "data": {
      "application/vnd.jupyter.widget-view+json": {
       "model_id": "",
       "version_major": 2,
       "version_minor": 0
      },
      "text/plain": [
       "FloatProgress(value=0.0, bar_style='info', description='Progress:', layout=Layout(height='25px', width='50%'),…"
      ]
     },
     "metadata": {},
     "output_type": "display_data"
    }
   ],
   "source": [
    "# Task 06 Cell 1 out of 2\n",
    "\n",
    "interaction_level_df = (interaction_level_df\n",
    "                        .withColumn('submitted',F.col(\"submitted\").cast(\"date\") # pyspark function to cast a column to DateType()\n",
    "                                   )\n",
    "                        .withColumn('review_date',F.col(\"review_date\").cast(\"date\") # pyspark function to cast a column to DateType()\n",
    "                                   )\n",
    "                                             \n",
    "                       )\n"
   ]
  },
  {
   "cell_type": "code",
   "execution_count": 29,
   "id": "e0ee7120",
   "metadata": {},
   "outputs": [
    {
     "data": {
      "application/vnd.jupyter.widget-view+json": {
       "model_id": "f7b484c0d6494fb38dced7cdc1c1e96b",
       "version_major": 2,
       "version_minor": 0
      },
      "text/plain": [
       "VBox()"
      ]
     },
     "metadata": {},
     "output_type": "display_data"
    },
    {
     "data": {
      "application/vnd.jupyter.widget-view+json": {
       "model_id": "",
       "version_major": 2,
       "version_minor": 0
      },
      "text/plain": [
       "FloatProgress(value=0.0, bar_style='info', description='Progress:', layout=Layout(height='25px', width='50%'),…"
      ]
     },
     "metadata": {},
     "output_type": "display_data"
    }
   ],
   "source": [
    "interaction_level_df = (interaction_level_df\n",
    "                        .withColumn('days_since_submission_on_review_date',F.datediff(\"review_date\",\"submitted\")\n",
    "                                     # Pyspark function to find the number of days between two dates              \n",
    "                                   )\n",
    "                        .withColumn('months_since_submission_on_review_date',F.months_between(\"review_date\",\"submitted\")\n",
    "                                     # Pyspark function to find the number of months between two dates          \n",
    "                                   )\n",
    "                        .withColumn('years_since_submission_on_review_date',F.months_between(\"review_date\",\"submitted\")/12\n",
    "                                     # Pyspark function to find the number of months between two dates / 12          \n",
    "                                   )\n",
    "                         )"
   ]
  },
  {
   "cell_type": "markdown",
   "id": "74f6b85a",
   "metadata": {},
   "source": [
    "**Test cases for Task 06**"
   ]
  },
  {
   "cell_type": "code",
   "execution_count": 30,
   "id": "c6ffaac6",
   "metadata": {},
   "outputs": [
    {
     "data": {
      "application/vnd.jupyter.widget-view+json": {
       "model_id": "eada105aaf7047428853b4477893e341",
       "version_major": 2,
       "version_minor": 0
      },
      "text/plain": [
       "VBox()"
      ]
     },
     "metadata": {},
     "output_type": "display_data"
    },
    {
     "data": {
      "application/vnd.jupyter.widget-view+json": {
       "model_id": "",
       "version_major": 2,
       "version_minor": 0
      },
      "text/plain": [
       "FloatProgress(value=0.0, bar_style='info', description='Progress:', layout=Layout(height='25px', width='50%'),…"
      ]
     },
     "metadata": {},
     "output_type": "display_data"
    }
   ],
   "source": [
    "# Code check cell\n",
    "# Do not edit cells with assert commands\n",
    "# If an error is shown after running this cell, please recheck your code.  \n",
    "\n",
    "assert interaction_level_df.schema[\"days_since_submission_on_review_date\"].dataType == IntegerType()\n",
    "\n",
    "assert (interaction_level_df.filter((interaction_level_df.user_id == 428885) & (interaction_level_df.recipe_id == 335241))\n",
    "                            .select('days_since_submission_on_review_date').collect()[0][0]) == 77\n",
    "assert (interaction_level_df.filter((interaction_level_df.user_id == 2025676) & (interaction_level_df.recipe_id == 94265))\n",
    "                            .select('months_since_submission_on_review_date').collect()[0][0]) == 153.22580645\n",
    "assert (interaction_level_df.filter((interaction_level_df.user_id == 338588) & (interaction_level_df.recipe_id == 21859))\n",
    "                            .select('years_since_submission_on_review_date').collect()[0][0]) == 4.564516129166667"
   ]
  },
  {
   "cell_type": "code",
   "execution_count": 31,
   "id": "a5c7b850",
   "metadata": {},
   "outputs": [
    {
     "data": {
      "application/vnd.jupyter.widget-view+json": {
       "model_id": "8baab8a0662a4376be42383d544dac78",
       "version_major": 2,
       "version_minor": 0
      },
      "text/plain": [
       "VBox()"
      ]
     },
     "metadata": {},
     "output_type": "display_data"
    },
    {
     "data": {
      "application/vnd.jupyter.widget-view+json": {
       "model_id": "",
       "version_major": 2,
       "version_minor": 0
      },
      "text/plain": [
       "FloatProgress(value=0.0, bar_style='info', description='Progress:', layout=Layout(height='25px', width='50%'),…"
      ]
     },
     "metadata": {},
     "output_type": "display_data"
    },
    {
     "name": "stdout",
     "output_type": "stream",
     "text": [
      "True"
     ]
    }
   ],
   "source": [
    "interaction_level_df.schema[\"days_since_submission_on_review_date\"].dataType == IntegerType()\n",
    "(interaction_level_df.filter((interaction_level_df.user_id == 428885) & (interaction_level_df.recipe_id == 335241))\n",
    "                            .select('days_since_submission_on_review_date').collect()[0][0]) == 77\n",
    "(interaction_level_df.filter((interaction_level_df.user_id == 2025676) & (interaction_level_df.recipe_id == 94265))\n",
    "                            .select('months_since_submission_on_review_date').collect()[0][0]) == 153.22580645\n",
    "(interaction_level_df.filter((interaction_level_df.user_id == 338588) & (interaction_level_df.recipe_id == 21859))\n",
    "                            .select('years_since_submission_on_review_date').collect()[0][0]) == 4.564516129166667"
   ]
  },
  {
   "cell_type": "markdown",
   "id": "e5846c8b",
   "metadata": {},
   "source": [
    "#### Task 06 ends</font>"
   ]
  },
  {
   "cell_type": "markdown",
   "id": "0e822158",
   "metadata": {},
   "source": [
    "## Save the data we have created so far in a parquet file. "
   ]
  },
  {
   "cell_type": "code",
   "execution_count": 32,
   "id": "e0982e72",
   "metadata": {},
   "outputs": [
    {
     "data": {
      "application/vnd.jupyter.widget-view+json": {
       "model_id": "f96ff6c99e04474e9e1c9cebc4551a2e",
       "version_major": 2,
       "version_minor": 0
      },
      "text/plain": [
       "VBox()"
      ]
     },
     "metadata": {},
     "output_type": "display_data"
    },
    {
     "data": {
      "application/vnd.jupyter.widget-view+json": {
       "model_id": "",
       "version_major": 2,
       "version_minor": 0
      },
      "text/plain": [
       "FloatProgress(value=0.0, bar_style='info', description='Progress:', layout=Layout(height='25px', width='50%'),…"
      ]
     },
     "metadata": {},
     "output_type": "display_data"
    },
    {
     "name": "stdout",
     "output_type": "stream",
     "text": [
      "root\n",
      " |-- user_id: integer (nullable = true)\n",
      " |-- recipe_id: integer (nullable = true)\n",
      " |-- rating: integer (nullable = true)\n",
      " |-- review: string (nullable = true)\n",
      " |-- review_date: date (nullable = true)\n",
      " |-- name: string (nullable = true)\n",
      " |-- id: integer (nullable = true)\n",
      " |-- minutes: integer (nullable = true)\n",
      " |-- contributor_id: integer (nullable = true)\n",
      " |-- submitted: date (nullable = true)\n",
      " |-- tags: array (nullable = true)\n",
      " |    |-- element: string (containsNull = true)\n",
      " |-- nutrition: string (nullable = true)\n",
      " |-- n_steps: integer (nullable = true)\n",
      " |-- steps: string (nullable = true)\n",
      " |-- description: string (nullable = true)\n",
      " |-- ingredients: string (nullable = true)\n",
      " |-- n_ingredients: integer (nullable = true)\n",
      " |-- calories: float (nullable = true)\n",
      " |-- total_fat_PDV: float (nullable = true)\n",
      " |-- sugar_PDV: float (nullable = true)\n",
      " |-- sodium_PDV: float (nullable = true)\n",
      " |-- protein_PDV: float (nullable = true)\n",
      " |-- saturated_fat_PDV: float (nullable = true)\n",
      " |-- carbohydrates_PDV: float (nullable = true)\n",
      " |-- total_fat_per_100_cal: double (nullable = false)\n",
      " |-- sugar_per_100_cal: double (nullable = false)\n",
      " |-- sodium_per_100_cal: double (nullable = false)\n",
      " |-- protein_per_100_cal: double (nullable = false)\n",
      " |-- saturated_fat_per_100_cal: double (nullable = false)\n",
      " |-- carbohydrates_per_100_cal: double (nullable = false)\n",
      " |-- days_since_submission_on_review_date: integer (nullable = true)\n",
      " |-- months_since_submission_on_review_date: double (nullable = true)\n",
      " |-- years_since_submission_on_review_date: double (nullable = true)"
     ]
    }
   ],
   "source": [
    "interaction_level_df.printSchema()"
   ]
  },
  {
   "cell_type": "code",
   "execution_count": 33,
   "id": "b8a77e74",
   "metadata": {},
   "outputs": [
    {
     "data": {
      "application/vnd.jupyter.widget-view+json": {
       "model_id": "97f4c4fb9ac74af29029311e0ce89277",
       "version_major": 2,
       "version_minor": 0
      },
      "text/plain": [
       "VBox()"
      ]
     },
     "metadata": {},
     "output_type": "display_data"
    },
    {
     "data": {
      "application/vnd.jupyter.widget-view+json": {
       "model_id": "",
       "version_major": 2,
       "version_minor": 0
      },
      "text/plain": [
       "FloatProgress(value=0.0, bar_style='info', description='Progress:', layout=Layout(height='25px', width='50%'),…"
      ]
     },
     "metadata": {},
     "output_type": "display_data"
    }
   ],
   "source": [
    "assert (interaction_level_df.count() ,len(interaction_level_df.columns) ) == (1132367, 33)"
   ]
  },
  {
   "cell_type": "code",
   "execution_count": 38,
   "id": "ab9dd918",
   "metadata": {},
   "outputs": [
    {
     "data": {
      "application/vnd.jupyter.widget-view+json": {
       "model_id": "784437139de44732ac550f856247b0a9",
       "version_major": 2,
       "version_minor": 0
      },
      "text/plain": [
       "VBox()"
      ]
     },
     "metadata": {},
     "output_type": "display_data"
    },
    {
     "data": {
      "application/vnd.jupyter.widget-view+json": {
       "model_id": "",
       "version_major": 2,
       "version_minor": 0
      },
      "text/plain": [
       "FloatProgress(value=0.0, bar_style='info', description='Progress:', layout=Layout(height='25px', width='50%'),…"
      ]
     },
     "metadata": {},
     "output_type": "display_data"
    }
   ],
   "source": [
    "## Write the raw_recipes_df\n",
    "## create a folder named data in you current directry before running this.  \n",
    "\n",
    "\n",
    "from pyspark.sql import SparkSession\n",
    "interaction_level_df.write.mode('overwrite').parquet(\"interaction_level_df\") # Modify the path as you need"
   ]
  },
  {
   "cell_type": "code",
   "execution_count": 35,
   "id": "dece8b06",
   "metadata": {},
   "outputs": [
    {
     "data": {
      "application/vnd.jupyter.widget-view+json": {
       "model_id": "87fc02f35a4746bdb2f6843afbce43aa",
       "version_major": 2,
       "version_minor": 0
      },
      "text/plain": [
       "VBox()"
      ]
     },
     "metadata": {},
     "output_type": "display_data"
    },
    {
     "data": {
      "application/vnd.jupyter.widget-view+json": {
       "model_id": "",
       "version_major": 2,
       "version_minor": 0
      },
      "text/plain": [
       "FloatProgress(value=0.0, bar_style='info', description='Progress:', layout=Layout(height='25px', width='50%'),…"
      ]
     },
     "metadata": {},
     "output_type": "display_data"
    },
    {
     "name": "stdout",
     "output_type": "stream",
     "text": [
      "+-------+---------+------+--------------------+-----------+--------------------+---+-------+--------------+----------+--------------------+--------------------+-------+--------------------+--------------------+--------------------+-------------+--------+-------------+---------+----------+-----------+-----------------+-----------------+---------------------+-------------------+------------------+-------------------+-------------------------+-------------------------+------------------------------------+--------------------------------------+-------------------------------------+\n",
      "|user_id|recipe_id|rating|              review|review_date|                name| id|minutes|contributor_id| submitted|                tags|           nutrition|n_steps|               steps|         description|         ingredients|n_ingredients|calories|total_fat_PDV|sugar_PDV|sodium_PDV|protein_PDV|saturated_fat_PDV|carbohydrates_PDV|total_fat_per_100_cal|  sugar_per_100_cal|sodium_per_100_cal|protein_per_100_cal|saturated_fat_per_100_cal|carbohydrates_per_100_cal|days_since_submission_on_review_date|months_since_submission_on_review_date|years_since_submission_on_review_date|\n",
      "+-------+---------+------+--------------------+-----------+--------------------+---+-------+--------------+----------+--------------------+--------------------+-------+--------------------+--------------------+--------------------+-------------+--------+-------------+---------+----------+-----------+-----------------+-----------------+---------------------+-------------------+------------------+-------------------+-------------------------+-------------------------+------------------------------------+--------------------------------------+-------------------------------------+\n",
      "| 269153|       81|     5|This is FANTASTIC...| 2006-03-09|all purpose quick...| 81|     40|        125579|1999-09-10|[60-minutes-or-le...|529.3, 37.0, 1.0,...|     36|['blend flours , ...|--adopted recipe-...|['whole wheat flo...|            5|   529.3|         37.0|      1.0|      36.0|       22.0|             73.0|             23.0|   6.9903647937494835|0.18892877820944548|6.8014360155400375|  4.156433120607801|       13.791800809289521|        4.345361898817246|                                2372|                           77.96774194|                    6.497311828333333|\n",
      "| 985729|       81|     5|I have made sever...| 2010-05-23|all purpose quick...| 81|     40|        125579|1999-09-10|[60-minutes-or-le...|529.3, 37.0, 1.0,...|     36|['blend flours , ...|--adopted recipe-...|['whole wheat flo...|            5|   529.3|         37.0|      1.0|      36.0|       22.0|             73.0|             23.0|   6.9903647937494835|0.18892877820944548|6.8014360155400375|  4.156433120607801|       13.791800809289521|        4.345361898817246|                                3908|                          128.41935484|                   10.701612903333334|\n",
      "| 985823|      122|     5|Awesome is what c...| 2010-05-25|commissary carrot...|122|    240|          1589|1999-09-09|[weeknight, time-...|1011.8, 103.0, 32...|     34|['in a heavy sauc...|best in the world...|['sugar', 'flour'...|           18|  1011.8|        103.0|    320.0|      16.0|       14.0|            141.0|             33.0|   10.179877568952445| 31.626804097716334|1.5813402048858167| 1.3836726792750895|        13.93556055555626|       3.2615141725769967|                                3911|                          128.51612903|                   10.709677419166667|\n",
      "|1294602|      122|     5|I use this recipe...| 2010-07-12|commissary carrot...|122|    240|          1589|1999-09-09|[weeknight, time-...|1011.8, 103.0, 32...|     34|['in a heavy sauc...|best in the world...|['sugar', 'flour'...|           18|  1011.8|        103.0|    320.0|      16.0|       14.0|            141.0|             33.0|   10.179877568952445| 31.626804097716334|1.5813402048858167| 1.3836726792750895|        13.93556055555626|       3.2615141725769967|                                3959|                          130.09677419|                   10.841397849166666|\n",
      "| 851190|      126|     5|Dinner was extra ...| 2010-05-25|carnation lean fe...|126|     40|          1556|1999-08-14|[60-minutes-or-le...|535.7, 24.0, 9.0,...|      9|['in a large pot ...|                    |['fettuccine', 'o...|           13|   535.7|         24.0|      9.0|      24.0|       57.0|             37.0|             23.0|    4.480119367763754| 1.6800447629114077| 4.480119367763754| 10.640283498438915|        6.906850691969121|        4.293447727440264|                                3937|                          129.35483871|                        10.7795698925|\n",
      "+-------+---------+------+--------------------+-----------+--------------------+---+-------+--------------+----------+--------------------+--------------------+-------+--------------------+--------------------+--------------------+-------------+--------+-------------+---------+----------+-----------+-----------------+-----------------+---------------------+-------------------+------------------+-------------------+-------------------------+-------------------------+------------------------------------+--------------------------------------+-------------------------------------+\n",
      "only showing top 5 rows"
     ]
    }
   ],
   "source": [
    "interaction_level_df.show(5)"
   ]
  },
  {
   "cell_type": "code",
   "execution_count": null,
   "id": "faeca896",
   "metadata": {},
   "outputs": [],
   "source": []
  }
 ],
 "metadata": {
  "kernelspec": {
   "display_name": "PySpark",
   "language": "",
   "name": "pysparkkernel"
  },
  "language_info": {
   "codemirror_mode": {
    "name": "python",
    "version": 3
   },
   "mimetype": "text/x-python",
   "name": "pyspark",
   "pygments_lexer": "python3"
  }
 },
 "nbformat": 4,
 "nbformat_minor": 5
}
